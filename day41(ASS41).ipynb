{
  "nbformat": 4,
  "nbformat_minor": 0,
  "metadata": {
    "colab": {
      "provenance": []
    },
    "kernelspec": {
      "name": "python3",
      "display_name": "Python 3"
    },
    "language_info": {
      "name": "python"
    }
  },
  "cells": [
    {
      "cell_type": "code",
      "execution_count": 5,
      "metadata": {
        "colab": {
          "base_uri": "https://localhost:8080/",
          "height": 1000
        },
        "id": "N2W7wvTpYBIA",
        "outputId": "d8ea31b6-ea04-46f8-ef35-f91cf6f24528"
      },
      "outputs": [
        {
          "output_type": "stream",
          "name": "stdout",
          "text": [
            "First five rows of the dataset:\n",
            "   Color    Size   Fruit  Color_LabelEncoded  Size_LabelEncoded  \\\n",
            "0   Blue   Small  Orange                   0                  2   \n",
            "1   Blue   Small  Banana                   0                  2   \n",
            "2  Green   Large   Apple                   1                  0   \n",
            "3   Blue  Medium   Apple                   0                  1   \n",
            "4   Blue   Large  Banana                   0                  0   \n",
            "\n",
            "   Fruit_LabelEncoded  \n",
            "0                   2  \n",
            "1                   1  \n",
            "2                   0  \n",
            "3                   0  \n",
            "4                   1  \n",
            "\n",
            "Value counts for Color:\n",
            "Color\n",
            "Blue     41\n",
            "Red      32\n",
            "Green    27\n",
            "Name: count, dtype: int64\n",
            "\n",
            "Value counts for Size:\n",
            "Size\n",
            "Small     39\n",
            "Large     32\n",
            "Medium    29\n",
            "Name: count, dtype: int64\n",
            "\n",
            "Value counts for Fruit:\n",
            "Fruit\n",
            "Apple     41\n",
            "Banana    31\n",
            "Orange    28\n",
            "Name: count, dtype: int64\n"
          ]
        },
        {
          "output_type": "stream",
          "name": "stderr",
          "text": [
            "<ipython-input-5-fc6f0ff42b73>:24: FutureWarning: \n",
            "\n",
            "Passing `palette` without assigning `hue` is deprecated and will be removed in v0.14.0. Assign the `x` variable to `hue` and set `legend=False` for the same effect.\n",
            "\n",
            "  sns.countplot(x=df[col], palette=\"viridis\")\n",
            "<ipython-input-5-fc6f0ff42b73>:24: FutureWarning: \n",
            "\n",
            "Passing `palette` without assigning `hue` is deprecated and will be removed in v0.14.0. Assign the `x` variable to `hue` and set `legend=False` for the same effect.\n",
            "\n",
            "  sns.countplot(x=df[col], palette=\"viridis\")\n",
            "<ipython-input-5-fc6f0ff42b73>:24: FutureWarning: \n",
            "\n",
            "Passing `palette` without assigning `hue` is deprecated and will be removed in v0.14.0. Assign the `x` variable to `hue` and set `legend=False` for the same effect.\n",
            "\n",
            "  sns.countplot(x=df[col], palette=\"viridis\")\n"
          ]
        },
        {
          "output_type": "display_data",
          "data": {
            "text/plain": [
              "<Figure size 1200x400 with 3 Axes>"
            ],
            "image/png": "[encoded data removed]"
          },
          "metadata": {}
        },
        {
          "output_type": "stream",
          "name": "stdout",
          "text": [
            "\n",
            "Label Encoded Dataset:\n",
            "   Color    Size   Fruit  Color_LabelEncoded  Size_LabelEncoded  \\\n",
            "0   Blue   Small  Orange                   0                  2   \n",
            "1   Blue   Small  Banana                   0                  2   \n",
            "2  Green   Large   Apple                   1                  0   \n",
            "3   Blue  Medium   Apple                   0                  1   \n",
            "4   Blue   Large  Banana                   0                  0   \n",
            "\n",
            "   Fruit_LabelEncoded  Color_Encoded  Size_Encoded  Fruit_Encoded  \n",
            "0                   2              0             2              2  \n",
            "1                   1              0             2              1  \n",
            "2                   0              1             0              0  \n",
            "3                   0              0             1              0  \n",
            "4                   1              0             0              1  \n",
            "\n",
            "One-Hot Encoded Dataset:\n",
            "   Color_LabelEncoded  Size_LabelEncoded  Fruit_LabelEncoded  Color_Blue  \\\n",
            "0                   0                  2                   2         1.0   \n",
            "1                   0                  2                   1         1.0   \n",
            "2                   1                  0                   0         0.0   \n",
            "3                   0                  1                   0         1.0   \n",
            "4                   0                  0                   1         1.0   \n",
            "\n",
            "   Color_Green  Color_Red  Size_Large  Size_Medium  Size_Small  Fruit_Apple  \\\n",
            "0          0.0        0.0         0.0          0.0         1.0          0.0   \n",
            "1          0.0        0.0         0.0          0.0         1.0          0.0   \n",
            "2          1.0        0.0         1.0          0.0         0.0          1.0   \n",
            "3          0.0        0.0         0.0          1.0         0.0          1.0   \n",
            "4          0.0        0.0         1.0          0.0         0.0          0.0   \n",
            "\n",
            "   Fruit_Banana  Fruit_Orange  \n",
            "0           0.0           1.0  \n",
            "1           1.0           0.0  \n",
            "2           0.0           0.0  \n",
            "3           0.0           0.0  \n",
            "4           1.0           0.0  \n",
            "\n",
            "Feature count comparison:\n",
            "Original dataset: 6 features\n",
            "After Label Encoding: 9 features\n",
            "After One-Hot Encoding: 12 features\n"
          ]
        }
      ],
      "source": [
        "import pandas as pd\n",
        "import matplotlib.pyplot as plt\n",
        "import seaborn as sns\n",
        "from sklearn.preprocessing import LabelEncoder, OneHotEncoder\n",
        "\n",
        "# Load the dataset\n",
        "file_path = \"Day_41 Encoding_Methods_Data.csv\"\n",
        "df = pd.read_csv(file_path)\n",
        "\n",
        "# Display the first five rows\n",
        "print(\"First five rows of the dataset:\")\n",
        "print(df.head())\n",
        "\n",
        "# Count occurrences of each unique value in categorical columns\n",
        "categorical_columns = [\"Color\", \"Size\", \"Fruit\"]\n",
        "for col in categorical_columns:\n",
        "    print(f\"\\nValue counts for {col}:\")\n",
        "    print(df[col].value_counts())\n",
        "\n",
        "# Plot category distributions\n",
        "plt.figure(figsize=(12, 4))\n",
        "for i, col in enumerate(categorical_columns):\n",
        "    plt.subplot(1, 3, i + 1)\n",
        "    sns.countplot(x=df[col], palette=\"viridis\")\n",
        "    plt.title(f\"Distribution of {col}\")\n",
        "plt.tight_layout()\n",
        "plt.show()\n",
        "\n",
        "# Apply Label Encoding\n",
        "label_encoders = {}\n",
        "encoded_df = df.copy()\n",
        "for col in categorical_columns:\n",
        "    le = LabelEncoder()\n",
        "    encoded_df[col + \"_Encoded\"] = le.fit_transform(df[col])\n",
        "    label_encoders[col] = le  # Store encoder for reference\n",
        "\n",
        "print(\"\\nLabel Encoded Dataset:\")\n",
        "print(encoded_df.head())\n",
        "\n",
        "# Apply One-Hot Encoding\n",
        "onehot_encoder = OneHotEncoder(sparse_output=False, drop=None)\n",
        "ohe_encoded = onehot_encoder.fit_transform(df[categorical_columns])\n",
        "\n",
        "# Create a DataFrame with OHE column names\n",
        "ohe_columns = onehot_encoder.get_feature_names_out(categorical_columns)\n",
        "ohe_df = pd.DataFrame(ohe_encoded, columns=ohe_columns)\n",
        "\n",
        "# Concatenate with original dataset (excluding original categorical columns)\n",
        "ohe_encoded_df = pd.concat([df.drop(columns=categorical_columns), ohe_df], axis=1)\n",
        "\n",
        "print(\"\\nOne-Hot Encoded Dataset:\")\n",
        "print(ohe_encoded_df.head())\n",
        "\n",
        "# Compare the number of features before and after encoding\n",
        "original_features = len(df.columns)\n",
        "label_encoded_features = len(encoded_df.columns)\n",
        "one_hot_encoded_features = len(ohe_encoded_df.columns)\n",
        "\n",
        "print(f\"\\nFeature count comparison:\")\n",
        "print(f\"Original dataset: {original_features} features\")\n",
        "print(f\"After Label Encoding: {label_encoded_features} features\")\n",
        "print(f\"After One-Hot Encoding: {one_hot_encoded_features} features\")\n"
      ]
    },
    {
      "cell_type": "code",
      "source": [],
      "metadata": {
        "id": "N6vEdor3YNXq"
      },
      "execution_count": null,
      "outputs": []
    }
  ]
}