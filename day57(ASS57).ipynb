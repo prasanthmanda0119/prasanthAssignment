{
  "nbformat": 4,
  "nbformat_minor": 0,
  "metadata": {
    "colab": {
      "private_outputs": true,
      "provenance": []
    },
    "kernelspec": {
      "name": "python3",
      "display_name": "Python 3"
    },
    "language_info": {
      "name": "python"
    }
  },
  "cells": [
    {
      "cell_type": "code",
      "execution_count": null,
      "metadata": {
        "id": "qnOR_RX5meIE"
      },
      "outputs": [],
      "source": [
        "import pandas as pd\n",
        "import matplotlib.pyplot as plt\n",
        "import seaborn as sns\n",
        "\n",
        "# Load the dataset\n",
        "df = pd.read_csv(\"Day 57 Support Vector Machines.csv\")\n",
        "\n",
        "# Display basic info\n",
        "print(df.info())\n",
        "\n",
        "# Show the first 5 rows\n",
        "print(df.head())\n",
        "\n",
        "# Check for missing values\n",
        "print(df.isnull().sum())\n"
      ]
    },
    {
      "cell_type": "code",
      "source": [
        "# Compute summary statistics\n",
        "print(df.describe())\n",
        "\n",
        "# Plot feature distributions\n",
        "df.hist(figsize=(12, 8), bins=30, edgecolor=\"black\")\n",
        "plt.show()\n"
      ],
      "metadata": {
        "id": "A0LySGormmS_"
      },
      "execution_count": null,
      "outputs": []
    },
    {
      "cell_type": "code",
      "source": [
        "plt.figure(figsize=(10, 6))\n",
        "sns.heatmap(df.corr(), annot=True, cmap=\"coolwarm\", fmt=\".2f\", linewidths=0.5)\n",
        "plt.title(\"Feature Correlation Heatmap\")\n",
        "plt.show()\n"
      ],
      "metadata": {
        "id": "yd020Xg4mp5N"
      },
      "execution_count": null,
      "outputs": []
    },
    {
      "cell_type": "code",
      "source": [
        "print(df.columns)\n"
      ],
      "metadata": {
        "id": "VJKf_2ADmrgv"
      },
      "execution_count": null,
      "outputs": []
    },
    {
      "cell_type": "code",
      "source": [
        "target_column = df.columns[-1]  # Select the last column as the target\n",
        "X = df.drop(columns=[target_column])\n",
        "y = df[target_column]\n",
        "\n",
        "print(f\"Selected Target Column: {target_column}\")\n"
      ],
      "metadata": {
        "id": "VP-wIgmimuW5"
      },
      "execution_count": null,
      "outputs": []
    },
    {
      "cell_type": "code",
      "source": [
        "from sklearn.model_selection import train_test_split\n",
        "\n",
        "# Split into training (80%) and testing (20%) sets\n",
        "X_train, X_test, y_train, y_test = train_test_split(X, y, test_size=0.2, random_state=42, stratify=y)\n",
        "\n",
        "# Train an SVM Classifier with Linear Kernel\n",
        "from sklearn.svm import SVC\n",
        "from sklearn.metrics import accuracy_score, classification_report\n",
        "\n",
        "svm_linear = SVC(kernel=\"linear\", C=1.0, random_state=42)\n",
        "svm_linear.fit(X_train, y_train)\n",
        "\n",
        "# Predictions\n",
        "y_pred_linear = svm_linear.predict(X_test)\n",
        "\n",
        "# Performance\n",
        "print(\"SVM (Linear Kernel) Accuracy:\", accuracy_score(y_test, y_pred_linear))\n",
        "print(classification_report(y_test, y_pred_linear))\n"
      ],
      "metadata": {
        "id": "sjvoBdCAm_5r"
      },
      "execution_count": null,
      "outputs": []
    },
    {
      "cell_type": "code",
      "source": [
        "# Train SVM with Polynomial Kernel\n",
        "svm_poly = SVC(kernel=\"poly\", degree=3, C=1.0, random_state=42)\n",
        "svm_poly.fit(X_train, y_train)\n",
        "y_pred_poly = svm_poly.predict(X_test)\n",
        "\n",
        "# Train SVM with RBF Kernel\n",
        "svm_rbf = SVC(kernel=\"rbf\", C=1.0, gamma=\"scale\", random_state=42)\n",
        "svm_rbf.fit(X_train, y_train)\n",
        "y_pred_rbf = svm_rbf.predict(X_test)\n",
        "\n",
        "# Compare Performance\n",
        "print(\"SVM (Polynomial Kernel) Accuracy:\", accuracy_score(y_test, y_pred_poly))\n",
        "print(\"SVM (RBF Kernel) Accuracy:\", accuracy_score(y_test, y_pred_rbf))\n"
      ],
      "metadata": {
        "id": "GZU7wrvjnUsw"
      },
      "execution_count": null,
      "outputs": []
    },
    {
      "cell_type": "code",
      "source": [
        "from sklearn.model_selection import GridSearchCV\n",
        "from sklearn.svm import SVC\n"
      ],
      "metadata": {
        "id": "UMZDRa4-nbsR"
      },
      "execution_count": null,
      "outputs": []
    },
    {
      "cell_type": "code",
      "source": [
        "# Define hyperparameter grid\n",
        "param_grid = {\n",
        "    \"C\": [0.1, 1, 10],\n",
        "    \"kernel\": [\"linear\", \"poly\", \"rbf\"],\n",
        "    \"gamma\": [\"scale\", \"auto\"]\n",
        "}\n"
      ],
      "metadata": {
        "id": "D4hg7aXQn4nY"
      },
      "execution_count": null,
      "outputs": []
    },
    {
      "cell_type": "code",
      "source": [
        "# Initialize SVM model\n",
        "svm = SVC()\n",
        "\n",
        "# Initialize GridSearchCV\n",
        "grid_search = GridSearchCV(svm, param_grid, cv=5, scoring=\"accuracy\", n_jobs=-1)\n",
        "\n",
        "# Fit on training data\n",
        "grid_search.fit(X_train, y_train)\n",
        "\n",
        "# Best Parameters & Score\n",
        "print(\"Best Parameters:\", grid_search.best_params_)\n",
        "print(\"Best Accuracy:\", grid_search.best_score_)\n"
      ],
      "metadata": {
        "id": "eaX3C-iCn6Yu"
      },
      "execution_count": null,
      "outputs": []
    },
    {
      "cell_type": "code",
      "source": [
        "# Get the best model\n",
        "best_svm = grid_search.best_estimator_\n",
        "\n",
        "# Predict on test set\n",
        "y_pred_best = best_svm.predict(X_test)\n",
        "\n",
        "# Performance Metrics\n",
        "from sklearn.metrics import accuracy_score, classification_report\n",
        "\n",
        "print(\"Best SVM Model Accuracy:\", accuracy_score(y_test, y_pred_best))\n",
        "print(classification_report(y_test, y_pred_best))\n"
      ],
      "metadata": {
        "id": "Tc3tg7a9n8D5"
      },
      "execution_count": null,
      "outputs": []
    },
    {
      "cell_type": "code",
      "source": [],
      "metadata": {
        "id": "m5jyGreloAQk"
      },
      "execution_count": null,
      "outputs": []
    }
  ]
}