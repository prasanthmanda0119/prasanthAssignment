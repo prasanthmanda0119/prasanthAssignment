{
  "nbformat": 4,
  "nbformat_minor": 0,
  "metadata": {
    "colab": {
      "private_outputs": true,
      "provenance": []
    },
    "kernelspec": {
      "name": "python3",
      "display_name": "Python 3"
    },
    "language_info": {
      "name": "python"
    }
  },
  "cells": [
    {
      "cell_type": "code",
      "execution_count": null,
      "metadata": {
        "id": "6BOdqPtpoxbc"
      },
      "outputs": [],
      "source": [
        "import pandas as pd\n",
        "\n",
        "# Load the dataset\n",
        "file_path = \"Day_32 Recommendation_System_Data.csv\"  # Update with the correct path\n",
        "df = pd.read_csv(file_path)\n",
        "\n",
        "# Display basic information and first few rows\n",
        "print(df.info())\n",
        "print(df.head())\n"
      ]
    },
    {
      "cell_type": "code",
      "source": [
        "top_rated_items = df['Item'].value_counts().head(5)\n",
        "print(top_rated_items)\n"
      ],
      "metadata": {
        "id": "iDCDilAM1fv1"
      },
      "execution_count": null,
      "outputs": []
    },
    {
      "cell_type": "code",
      "source": [
        "print(df.columns)\n"
      ],
      "metadata": {
        "id": "CO0EZApd1_ca"
      },
      "execution_count": null,
      "outputs": []
    },
    {
      "cell_type": "code",
      "source": [
        "average_ratings = df.groupby('Item')['Rating'].mean().sort_values(ascending=False)\n",
        "print(average_ratings.head(5))  # Top 5 highest-rated items\n"
      ],
      "metadata": {
        "id": "gxrHyroX2GDN"
      },
      "execution_count": null,
      "outputs": []
    },
    {
      "cell_type": "code",
      "source": [
        "import matplotlib.pyplot as plt\n",
        "import seaborn as sns\n",
        "\n",
        "plt.figure(figsize=(8,5))\n",
        "sns.histplot(df['Rating'], bins=10, kde=True)\n",
        "plt.xlabel(\"Ratings\")\n",
        "plt.ylabel(\"Frequency\")\n",
        "plt.title(\"Distribution of Ratings\")\n",
        "plt.show()\n"
      ],
      "metadata": {
        "id": "MhEj5fdg2ZN6"
      },
      "execution_count": null,
      "outputs": []
    },
    {
      "cell_type": "code",
      "source": [
        "import numpy as np\n",
        "\n",
        "# Create a small user-item matrix for visualization\n",
        "sample_users = df['User'].unique()[:50]  # Selecting first 50 users\n",
        "sample_items = df['Item'].unique()[:50]  # Selecting first 50 items\n",
        "sample_df = df[df['User'].isin(sample_users) & df['Item'].isin(sample_items)]\n",
        "\n",
        "interaction_matrix = sample_df\n"
      ],
      "metadata": {
        "id": "wanwNQOK2hB2"
      },
      "execution_count": null,
      "outputs": []
    },
    {
      "cell_type": "code",
      "source": [
        "# Aggregate duplicate user-item pairs by taking the mean rating\n",
        "sample_df = df[df['User'].isin(sample_users) & df['Item'].isin(sample_items)]\n",
        "sample_df = sample_df.groupby(['User', 'Item'])['Rating'].mean().reset_index()\n",
        "\n",
        "# Create the user-item interaction matrix\n",
        "interaction_matrix = sample_df.pivot(index='User', columns='Item', values='Rating').fillna(0)\n",
        "\n",
        "import seaborn as sns\n",
        "import matplotlib.pyplot as plt\n",
        "\n",
        "plt.figure(figsize=(10, 6))\n",
        "sns.heatmap(interaction_matrix, cmap=\"coolwarm\", xticklabels=False, yticklabels=False)\n",
        "plt.title(\"User-Item Interaction Heatmap (Sample)\")\n",
        "plt.show()\n"
      ],
      "metadata": {
        "id": "9igSHtET2tkM"
      },
      "execution_count": null,
      "outputs": []
    },
    {
      "cell_type": "code",
      "source": [
        "df.duplicated().sum()"
      ],
      "metadata": {
        "id": "hVZuAPgc3ENN"
      },
      "execution_count": null,
      "outputs": []
    },
    {
      "cell_type": "code",
      "source": [],
      "metadata": {
        "id": "L6QOX4Ue3O-2"
      },
      "execution_count": null,
      "outputs": []
    }
  ]
}